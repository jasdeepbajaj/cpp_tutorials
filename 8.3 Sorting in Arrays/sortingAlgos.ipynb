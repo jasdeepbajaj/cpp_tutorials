{
 "cells": [
  {
   "cell_type": "code",
   "execution_count": 4,
   "metadata": {},
   "outputs": [
    {
     "name": "stdout",
     "output_type": "stream",
     "text": [
      "[1, 2, 3, 4, 5]\n"
     ]
    }
   ],
   "source": [
    "def selectionSort(array):\n",
    "    n = len(array)\n",
    "    for i in range(0, n-1):\n",
    "        min_idx = i\n",
    "        # Find the index of the minimum element in the unsorted part of the array\n",
    "        for j in range(i+1, n):\n",
    "            if array[j] < array[min_idx]:\n",
    "                min_idx = j\n",
    "\n",
    "        # Swap the found minimum element with the first element of the unsorted part\n",
    "        temp = array[min_idx]\n",
    "        array[min_idx] = array[i]\n",
    "        array[i] = temp\n",
    "\n",
    "    return array\n",
    "\n",
    "def bubbleSort(array):\n",
    "    n = len(array)\n",
    "    for i in range(0, n-1):\n",
    "        swapped = False\n",
    "        for j in range(0, n-i-1):\n",
    "            if array[j]>array[j+1]:\n",
    "                array[j], array[j+1] = array[j+1], array[j]\n",
    "                swapped = True\n",
    "\n",
    "        \n",
    "        if not swapped:\n",
    "            break\n",
    "\n",
    "    return array\n",
    "\n",
    "def insertionSort(array):\n",
    "    n = len(array)\n",
    "    for i in range(1, n):\n",
    "        current = array[i]\n",
    "        j = i-1\n",
    "        while array[j]>current and j>=0:\n",
    "            array[j+1] = array[j]\n",
    "            j = j-1\n",
    "\n",
    "        array[j+1] = current\n",
    "\n",
    "    return array\n",
    "\n",
    "\n",
    "if __name__ == \"__main__\":\n",
    "    a = [5, 4, 3, 2, 1]\n",
    "    # Sort the array 'a' using selectionSort function\n",
    "    b = insertionSort(a)\n",
    "    print(b)  # Output the sorted array\n"
   ]
  },
  {
   "cell_type": "code",
   "execution_count": null,
   "metadata": {},
   "outputs": [],
   "source": []
  }
 ],
 "metadata": {
  "kernelspec": {
   "display_name": "base",
   "language": "python",
   "name": "python3"
  },
  "language_info": {
   "codemirror_mode": {
    "name": "ipython",
    "version": 3
   },
   "file_extension": ".py",
   "mimetype": "text/x-python",
   "name": "python",
   "nbconvert_exporter": "python",
   "pygments_lexer": "ipython3",
   "version": "3.11.5"
  }
 },
 "nbformat": 4,
 "nbformat_minor": 2
}

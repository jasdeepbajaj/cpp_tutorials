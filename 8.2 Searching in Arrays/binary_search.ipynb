{
 "cells": [
  {
   "cell_type": "code",
   "execution_count": 6,
   "metadata": {},
   "outputs": [],
   "source": [
    "def binarySearch(arr, key):\n",
    "    s =  0\n",
    "    e = len(arr) - 1\n",
    "\n",
    "    while s<=e:\n",
    "        mid = (s+e)//2\n",
    "        if arr[mid]==key:\n",
    "            return mid\n",
    "        \n",
    "        elif arr[mid]>key:\n",
    "            e = mid - 1\n",
    "\n",
    "        else:\n",
    "            s = mid + 1\n",
    "\n",
    "    return -1"
   ]
  },
  {
   "cell_type": "code",
   "execution_count": 10,
   "metadata": {},
   "outputs": [
    {
     "name": "stdout",
     "output_type": "stream",
     "text": [
      "5 exists at the index 4 in the given array: [1, 2, 3, 4, 5]\n"
     ]
    }
   ],
   "source": [
    "if __name__ == \"__main__\":\n",
    "    arr = [1,2,3,4,5]\n",
    "    key = 5\n",
    "\n",
    "    result = binarySearch(arr, key)\n",
    "\n",
    "    if result == -1:\n",
    "        print(\"No such element in the array\")\n",
    "\n",
    "    else:\n",
    "        print(f\"{key} exists at the index {result} in the given array: {arr}\")"
   ]
  },
  {
   "cell_type": "code",
   "execution_count": 5,
   "metadata": {},
   "outputs": [
    {
     "data": {
      "text/plain": [
       "2"
      ]
     },
     "execution_count": 5,
     "metadata": {},
     "output_type": "execute_result"
    }
   ],
   "source": [
    "5//2"
   ]
  },
  {
   "cell_type": "code",
   "execution_count": null,
   "metadata": {},
   "outputs": [],
   "source": []
  }
 ],
 "metadata": {
  "kernelspec": {
   "display_name": "base",
   "language": "python",
   "name": "python3"
  },
  "language_info": {
   "codemirror_mode": {
    "name": "ipython",
    "version": 3
   },
   "file_extension": ".py",
   "mimetype": "text/x-python",
   "name": "python",
   "nbconvert_exporter": "python",
   "pygments_lexer": "ipython3",
   "version": "3.11.5"
  }
 },
 "nbformat": 4,
 "nbformat_minor": 2
}
